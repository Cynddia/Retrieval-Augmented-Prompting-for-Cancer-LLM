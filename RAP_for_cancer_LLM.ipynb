{
  "nbformat": 4,
  "nbformat_minor": 0,
  "metadata": {
    "colab": {
      "provenance": []
    },
    "kernelspec": {
      "name": "python3",
      "display_name": "Python 3"
    },
    "language_info": {
      "name": "python"
    }
  },
  "cells": [
    {
      "cell_type": "code",
      "source": [
        "!pip install PyPDF2"
      ],
      "metadata": {
        "colab": {
          "base_uri": "https://localhost:8080/"
        },
        "id": "Z8Hu10NBXU-2",
        "outputId": "66281ef3-3fc6-4a00-9078-bd5e9fc43ebf"
      },
      "execution_count": 7,
      "outputs": [
        {
          "output_type": "stream",
          "name": "stdout",
          "text": [
            "Requirement already satisfied: PyPDF2 in /usr/local/lib/python3.10/dist-packages (3.0.1)\n"
          ]
        }
      ]
    },
    {
      "cell_type": "code",
      "source": [
        "!pip install sentence_transformers"
      ],
      "metadata": {
        "colab": {
          "base_uri": "https://localhost:8080/"
        },
        "id": "q44BVHnVXW48",
        "outputId": "0fb9b292-6150-426a-805b-a8dda5f98567"
      },
      "execution_count": 8,
      "outputs": [
        {
          "output_type": "stream",
          "name": "stdout",
          "text": [
            "Requirement already satisfied: sentence_transformers in /usr/local/lib/python3.10/dist-packages (3.0.1)\n",
            "Requirement already satisfied: transformers<5.0.0,>=4.34.0 in /usr/local/lib/python3.10/dist-packages (from sentence_transformers) (4.44.2)\n",
            "Requirement already satisfied: tqdm in /usr/local/lib/python3.10/dist-packages (from sentence_transformers) (4.66.5)\n",
            "Requirement already satisfied: torch>=1.11.0 in /usr/local/lib/python3.10/dist-packages (from sentence_transformers) (2.4.0+cu121)\n",
            "Requirement already satisfied: numpy in /usr/local/lib/python3.10/dist-packages (from sentence_transformers) (1.26.4)\n",
            "Requirement already satisfied: scikit-learn in /usr/local/lib/python3.10/dist-packages (from sentence_transformers) (1.3.2)\n",
            "Requirement already satisfied: scipy in /usr/local/lib/python3.10/dist-packages (from sentence_transformers) (1.13.1)\n",
            "Requirement already satisfied: huggingface-hub>=0.15.1 in /usr/local/lib/python3.10/dist-packages (from sentence_transformers) (0.24.6)\n",
            "Requirement already satisfied: Pillow in /usr/local/lib/python3.10/dist-packages (from sentence_transformers) (9.4.0)\n",
            "Requirement already satisfied: filelock in /usr/local/lib/python3.10/dist-packages (from huggingface-hub>=0.15.1->sentence_transformers) (3.15.4)\n",
            "Requirement already satisfied: fsspec>=2023.5.0 in /usr/local/lib/python3.10/dist-packages (from huggingface-hub>=0.15.1->sentence_transformers) (2024.6.1)\n",
            "Requirement already satisfied: packaging>=20.9 in /usr/local/lib/python3.10/dist-packages (from huggingface-hub>=0.15.1->sentence_transformers) (24.1)\n",
            "Requirement already satisfied: pyyaml>=5.1 in /usr/local/lib/python3.10/dist-packages (from huggingface-hub>=0.15.1->sentence_transformers) (6.0.2)\n",
            "Requirement already satisfied: requests in /usr/local/lib/python3.10/dist-packages (from huggingface-hub>=0.15.1->sentence_transformers) (2.32.3)\n",
            "Requirement already satisfied: typing-extensions>=3.7.4.3 in /usr/local/lib/python3.10/dist-packages (from huggingface-hub>=0.15.1->sentence_transformers) (4.12.2)\n",
            "Requirement already satisfied: sympy in /usr/local/lib/python3.10/dist-packages (from torch>=1.11.0->sentence_transformers) (1.13.2)\n",
            "Requirement already satisfied: networkx in /usr/local/lib/python3.10/dist-packages (from torch>=1.11.0->sentence_transformers) (3.3)\n",
            "Requirement already satisfied: jinja2 in /usr/local/lib/python3.10/dist-packages (from torch>=1.11.0->sentence_transformers) (3.1.4)\n",
            "Requirement already satisfied: regex!=2019.12.17 in /usr/local/lib/python3.10/dist-packages (from transformers<5.0.0,>=4.34.0->sentence_transformers) (2024.5.15)\n",
            "Requirement already satisfied: safetensors>=0.4.1 in /usr/local/lib/python3.10/dist-packages (from transformers<5.0.0,>=4.34.0->sentence_transformers) (0.4.4)\n",
            "Requirement already satisfied: tokenizers<0.20,>=0.19 in /usr/local/lib/python3.10/dist-packages (from transformers<5.0.0,>=4.34.0->sentence_transformers) (0.19.1)\n",
            "Requirement already satisfied: joblib>=1.1.1 in /usr/local/lib/python3.10/dist-packages (from scikit-learn->sentence_transformers) (1.4.2)\n",
            "Requirement already satisfied: threadpoolctl>=2.0.0 in /usr/local/lib/python3.10/dist-packages (from scikit-learn->sentence_transformers) (3.5.0)\n",
            "Requirement already satisfied: MarkupSafe>=2.0 in /usr/local/lib/python3.10/dist-packages (from jinja2->torch>=1.11.0->sentence_transformers) (2.1.5)\n",
            "Requirement already satisfied: charset-normalizer<4,>=2 in /usr/local/lib/python3.10/dist-packages (from requests->huggingface-hub>=0.15.1->sentence_transformers) (3.3.2)\n",
            "Requirement already satisfied: idna<4,>=2.5 in /usr/local/lib/python3.10/dist-packages (from requests->huggingface-hub>=0.15.1->sentence_transformers) (3.8)\n",
            "Requirement already satisfied: urllib3<3,>=1.21.1 in /usr/local/lib/python3.10/dist-packages (from requests->huggingface-hub>=0.15.1->sentence_transformers) (2.0.7)\n",
            "Requirement already satisfied: certifi>=2017.4.17 in /usr/local/lib/python3.10/dist-packages (from requests->huggingface-hub>=0.15.1->sentence_transformers) (2024.8.30)\n",
            "Requirement already satisfied: mpmath<1.4,>=1.1.0 in /usr/local/lib/python3.10/dist-packages (from sympy->torch>=1.11.0->sentence_transformers) (1.3.0)\n"
          ]
        }
      ]
    },
    {
      "cell_type": "code",
      "source": [
        "!pip install faiss-cpu"
      ],
      "metadata": {
        "colab": {
          "base_uri": "https://localhost:8080/"
        },
        "id": "XVjtogWlXZrS",
        "outputId": "965ebb77-1692-4e71-c01a-4b28cc61a283"
      },
      "execution_count": 9,
      "outputs": [
        {
          "output_type": "stream",
          "name": "stdout",
          "text": [
            "Requirement already satisfied: faiss-cpu in /usr/local/lib/python3.10/dist-packages (1.8.0.post1)\n",
            "Requirement already satisfied: numpy<2.0,>=1.0 in /usr/local/lib/python3.10/dist-packages (from faiss-cpu) (1.26.4)\n",
            "Requirement already satisfied: packaging in /usr/local/lib/python3.10/dist-packages (from faiss-cpu) (24.1)\n"
          ]
        }
      ]
    },
    {
      "cell_type": "markdown",
      "source": [
        "Creating Embeddings of relevant parts of paper"
      ],
      "metadata": {
        "id": "GME0W56g61Vm"
      }
    },
    {
      "cell_type": "code",
      "source": [
        "import re\n",
        "import PyPDF2\n",
        "from sentence_transformers import SentenceTransformer\n",
        "import numpy as np\n",
        "import faiss\n",
        "import os"
      ],
      "metadata": {
        "id": "ZhmLuZfi671o"
      },
      "execution_count": 32,
      "outputs": []
    },
    {
      "cell_type": "markdown",
      "source": [
        "Extracting text from paper and creating embedding using biobert"
      ],
      "metadata": {
        "id": "K8lsZf5t7UEv"
      }
    },
    {
      "cell_type": "code",
      "source": [
        "def extract_text_from_pdf(pdf_path):\n",
        "    with open(pdf_path, 'rb') as file:\n",
        "        reader = PyPDF2.PdfReader(file)\n",
        "        text = \"\"\n",
        "        for page in reader.pages:\n",
        "            text += page.extract_text()\n",
        "    return text"
      ],
      "metadata": {
        "id": "IiYbglVF7QO_"
      },
      "execution_count": 33,
      "outputs": []
    },
    {
      "cell_type": "code",
      "source": [
        "def remove_sections(text, sections):\n",
        "    for section in sections:\n",
        "        text = re.split(f'{section}', text, flags=re.IGNORECASE)[0]\n",
        "    return text"
      ],
      "metadata": {
        "id": "SkBEQjAZ7fIU"
      },
      "execution_count": 34,
      "outputs": []
    },
    {
      "cell_type": "code",
      "source": [
        "def process_pdfs(pdf_paths, sections_to_remove):\n",
        "    all_text = \"\"\n",
        "    for pdf_path in pdf_paths:\n",
        "        pdf_text = extract_text_from_pdf(pdf_path)\n",
        "        cleaned_text = remove_sections(pdf_text, sections_to_remove)\n",
        "        all_text += cleaned_text + \" \"  # Combine texts from all PDFs\n",
        "    return all_text"
      ],
      "metadata": {
        "id": "TrItF1VK7ijc"
      },
      "execution_count": 35,
      "outputs": []
    },
    {
      "cell_type": "code",
      "source": [
        "pdf_paths = [\"/content/24993349.pdf\", \"/content/Cancer - 1 January 1981 - Miller - Reporting results of cancer treatment.pdf\",\n",
        "             \"/content/cancers-03-03279-v2.pdf\",\"/content/dunn2004.pdf\",\"/content/zugazagoitia2016.pdf\"]"
      ],
      "metadata": {
        "id": "djy3m8Ts7nz8"
      },
      "execution_count": 36,
      "outputs": []
    },
    {
      "cell_type": "code",
      "source": [
        "sections_to_remove = [\"References\", \"Acknowledgements\", \"Appendix\",'LITERATURE CITATIONS']\n"
      ],
      "metadata": {
        "id": "y6d3DAf_7qqk"
      },
      "execution_count": 37,
      "outputs": []
    },
    {
      "cell_type": "code",
      "source": [
        "combined_text = process_pdfs(pdf_paths, sections_to_remove)\n",
        "chunks = combined_text.split('.')"
      ],
      "metadata": {
        "id": "4JpkL0Go7u3M"
      },
      "execution_count": 38,
      "outputs": []
    },
    {
      "cell_type": "code",
      "source": [
        "model = SentenceTransformer('pritamdeka/BioBERT-mnli-snli-scinli-scitail-mednli-stsb')\n",
        "embeddings = model.encode(chunks)"
      ],
      "metadata": {
        "id": "ECy8xJ767y22"
      },
      "execution_count": 39,
      "outputs": []
    },
    {
      "cell_type": "markdown",
      "source": [
        "## Store embeddings using FAISS for fast retrieval"
      ],
      "metadata": {
        "id": "Xg55LoZF72sO"
      }
    },
    {
      "cell_type": "code",
      "source": [
        "dimension = embeddings.shape[1]\n",
        "index = faiss.IndexFlatL2(dimension)"
      ],
      "metadata": {
        "id": "QzMcBevv73L1"
      },
      "execution_count": 40,
      "outputs": []
    },
    {
      "cell_type": "code",
      "source": [
        "index.add(np.array(embeddings))\n",
        "chunk_mapping = {i: chunk for i, chunk in enumerate(chunks)}\n",
        "print(\"Cleaned Text Chunks:\", chunks[:5])"
      ],
      "metadata": {
        "colab": {
          "base_uri": "https://localhost:8080/"
        },
        "id": "_IFssSZR9EHN",
        "outputId": "ffcbd77d-6d57-4ab5-f48a-b5a43ec5a89d"
      },
      "execution_count": 41,
      "outputs": [
        {
          "output_type": "stream",
          "name": "stdout",
          "text": [
            "Cleaned Text Chunks: ['How Cancer Arises\\nAuthor(s): Robert A', ' Weinberg\\nSource: Scientific American , Vol', ' 275, No', ' 3, SPECIAL ISSUE: WHAT YOU NEED TO KNOW \\nABOUT CANCER (SEPTEMBER 1996), pp', ' 62-70\\nPublished by: Scientific American, a division of Nature America, Inc']\n"
          ]
        }
      ]
    },
    {
      "cell_type": "markdown",
      "source": [
        "## Giving user query to question llm"
      ],
      "metadata": {
        "id": "1Nj6Rb299LVV"
      }
    },
    {
      "cell_type": "markdown",
      "source": [
        "Retrieving  the most relevant chunks"
      ],
      "metadata": {
        "id": "pizTWAto9WHF"
      }
    },
    {
      "cell_type": "code",
      "source": [
        "query = \"What is breast cancer?\"\n",
        "\n",
        "query_embedding = model.encode([query])\n",
        "k = 3  # Number of top chunks to retrieve\n",
        "distances, indices = index.search(query_embedding, k)\n",
        "\n",
        "retrieved_chunks = [chunk_mapping[idx] for idx in indices[0]]\n",
        "print(\"Relevant chunks:\", retrieved_chunks)"
      ],
      "metadata": {
        "colab": {
          "base_uri": "https://localhost:8080/"
        },
        "id": "iYv_mGBi9Ljv",
        "outputId": "b92803d5-0c3f-4a91-e686-1d2ae6951c79"
      },
      "execution_count": 43,
      "outputs": [
        {
          "output_type": "stream",
          "name": "stdout",
          "text": [
            "Relevant chunks: [', skin and subcutaneous metastases, inflammatory \\nbreast cancer, intraoral lesions, or recurrent rectal \\ncancer)', 'And the recently isolated BRCA1 and\\nBRCA2 genes seem to account for the\\nbulk of familial breast cancers, encom-\\npassing as many as 20 percent of all pre-menopausal breast cancers in this coun-\\ntry and a substantial proportion of fa-\\nmilial ovarian cancers as well', ' Involved in \\nglioblastoma (a brain cancer) and breast cancer\\nerb-B2 Also called HER-2 or neu']\n"
          ]
        }
      ]
    },
    {
      "cell_type": "code",
      "source": [
        "context = \" \".join(retrieved_chunks)\n",
        "\n",
        "prompt = f\"Context: {context} \\n\\nQuestion: {query}\"\n",
        "\n",
        "print(\"Generated Prompt for LLM:\\n\", prompt)"
      ],
      "metadata": {
        "colab": {
          "base_uri": "https://localhost:8080/"
        },
        "id": "syNomTW69bx0",
        "outputId": "54a89a74-7b1c-4c21-9ae1-96dbe281ad49"
      },
      "execution_count": 44,
      "outputs": [
        {
          "output_type": "stream",
          "name": "stdout",
          "text": [
            "Generated Prompt for LLM:\n",
            " Context: , skin and subcutaneous metastases, inflammatory \n",
            "breast cancer, intraoral lesions, or recurrent rectal \n",
            "cancer) And the recently isolated BRCA1 and\n",
            "BRCA2 genes seem to account for the\n",
            "bulk of familial breast cancers, encom-\n",
            "passing as many as 20 percent of all pre-menopausal breast cancers in this coun-\n",
            "try and a substantial proportion of fa-\n",
            "milial ovarian cancers as well  Involved in \n",
            "glioblastoma (a brain cancer) and breast cancer\n",
            "erb-B2 Also called HER-2 or neu \n",
            "\n",
            "Question: What is breast cancer?\n"
          ]
        }
      ]
    },
    {
      "cell_type": "markdown",
      "source": [
        "## RAP for gpt2"
      ],
      "metadata": {
        "id": "yiGAM8bS9gYF"
      }
    },
    {
      "cell_type": "code",
      "source": [
        "from transformers import pipeline\n",
        "\n",
        "generator = pipeline('text-generation', model='gpt2')\n",
        "\n",
        "response = generator(prompt, max_new_tokens=100, num_return_sequences=1, truncation=True)\n",
        "\n",
        "print(\"LLM Response:\", response[0]['generated_text'])"
      ],
      "metadata": {
        "colab": {
          "base_uri": "https://localhost:8080/"
        },
        "id": "oJfLAUPI9jy_",
        "outputId": "b85dd26a-0646-4797-e41f-7ac794f502fc"
      },
      "execution_count": 45,
      "outputs": [
        {
          "output_type": "stream",
          "name": "stderr",
          "text": [
            "Setting `pad_token_id` to `eos_token_id`:50256 for open-end generation.\n"
          ]
        },
        {
          "output_type": "stream",
          "name": "stdout",
          "text": [
            "LLM Response: Context: , skin and subcutaneous metastases, inflammatory \n",
            "breast cancer, intraoral lesions, or recurrent rectal \n",
            "cancer) And the recently isolated BRCA1 and\n",
            "BRCA2 genes seem to account for the\n",
            "bulk of familial breast cancers, encom-\n",
            "passing as many as 20 percent of all pre-menopausal breast cancers in this coun-\n",
            "try and a substantial proportion of fa-\n",
            "milial ovarian cancers as well  Involved in \n",
            "glioblastoma (a brain cancer) and breast cancer\n",
            "erb-B2 Also called HER-2 or neu \n",
            "\n",
            "Question: What is breast cancer? Answer: breast cancer is\n",
            "\n",
            "a brain cancer. As well As breast cancer\n",
            "\n",
            "has been reported in women's breast milk and breast\n",
            "\n",
            "milk products (i.e. breast implants), breast cancer remains a\n",
            "\n",
            "concerning chronic disease. It is a brain cancer. As well I\n",
            "\n",
            "have mentioned it first of all in relation to   encom (dysenteritis ),  as\n",
            "\n",
            "an early brain cancer, that's\n",
            "\n",
            "the same as\n"
          ]
        }
      ]
    }
  ]
}